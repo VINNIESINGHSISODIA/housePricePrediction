{
 "cells": [
  {
   "cell_type": "markdown",
   "metadata": {
    "id": "hlPYWU_cVFF1"
   },
   "source": [
    "#**Mounting Google Drive**"
   ]
  },
  {
   "cell_type": "code",
   "execution_count": null,
   "metadata": {
    "colab": {
     "base_uri": "https://localhost:8080/"
    },
    "executionInfo": {
     "elapsed": 616,
     "status": "ok",
     "timestamp": 1628787781733,
     "user": {
      "displayName": "Btech Project",
      "photoUrl": "",
      "userId": "03384539956361178200"
     },
     "user_tz": -330
    },
    "id": "KYBCTuQQTEQC",
    "outputId": "1c1737d4-948d-4907-f26e-5f03c9d0d063"
   },
   "outputs": [
    {
     "name": "stdout",
     "output_type": "stream",
     "text": [
      "Drive already mounted at /content/drive; to attempt to forcibly remount, call drive.mount(\"/content/drive\", force_remount=True).\n"
     ]
    }
   ],
   "source": [
    "from google.colab import drive\n",
    "drive.mount('/content/drive')"
   ]
  },
  {
   "cell_type": "markdown",
   "metadata": {
    "id": "NYVXD3raVM3T"
   },
   "source": [
    "# **Importing Libraries**"
   ]
  },
  {
   "cell_type": "code",
   "execution_count": null,
   "metadata": {
    "id": "TalPn1kMTV6x"
   },
   "outputs": [],
   "source": [
    "import numpy as np\n",
    "import pandas as pd  \n",
    "from sklearn.model_selection import train_test_split\n",
    "from sklearn.linear_model import LinearRegression"
   ]
  },
  {
   "cell_type": "markdown",
   "metadata": {
    "id": "RLpOSJdgVRwB"
   },
   "source": [
    "# **Uploading Data**"
   ]
  },
  {
   "cell_type": "code",
   "execution_count": null,
   "metadata": {
    "id": "GFz4_bvNTWoS"
   },
   "outputs": [],
   "source": [
    "df=pd.read_csv('/content/drive/MyDrive/Project/House_Price_Prediction/Day0/boston_data.csv')"
   ]
  },
  {
   "cell_type": "markdown",
   "metadata": {
    "id": "WlZDzESUVW7P"
   },
   "source": [
    "#**Data Transfromation**"
   ]
  },
  {
   "cell_type": "code",
   "execution_count": null,
   "metadata": {
    "colab": {
     "base_uri": "https://localhost:8080/",
     "height": 206
    },
    "executionInfo": {
     "elapsed": 12,
     "status": "ok",
     "timestamp": 1628787782306,
     "user": {
      "displayName": "Btech Project",
      "photoUrl": "",
      "userId": "03384539956361178200"
     },
     "user_tz": -330
    },
    "id": "yhLmHBn3TYya",
    "outputId": "432de1a8-17f1-430a-81c5-105352160654"
   },
   "outputs": [
    {
     "data": {
      "text/html": [
       "<div>\n",
       "<style scoped>\n",
       "    .dataframe tbody tr th:only-of-type {\n",
       "        vertical-align: middle;\n",
       "    }\n",
       "\n",
       "    .dataframe tbody tr th {\n",
       "        vertical-align: top;\n",
       "    }\n",
       "\n",
       "    .dataframe thead th {\n",
       "        text-align: right;\n",
       "    }\n",
       "</style>\n",
       "<table border=\"1\" class=\"dataframe\">\n",
       "  <thead>\n",
       "    <tr style=\"text-align: right;\">\n",
       "      <th></th>\n",
       "      <th>Unnamed: 0</th>\n",
       "      <th>CRIM</th>\n",
       "      <th>ZN</th>\n",
       "      <th>INDUS</th>\n",
       "      <th>CHAS</th>\n",
       "      <th>NOX</th>\n",
       "      <th>RM</th>\n",
       "      <th>AGE</th>\n",
       "      <th>DIS</th>\n",
       "      <th>RAD</th>\n",
       "      <th>TAX</th>\n",
       "      <th>PTRATIO</th>\n",
       "      <th>B</th>\n",
       "      <th>LSTAT</th>\n",
       "      <th>Price per $1000</th>\n",
       "    </tr>\n",
       "  </thead>\n",
       "  <tbody>\n",
       "    <tr>\n",
       "      <th>0</th>\n",
       "      <td>0</td>\n",
       "      <td>0.00632</td>\n",
       "      <td>18.0</td>\n",
       "      <td>2.31</td>\n",
       "      <td>0.0</td>\n",
       "      <td>0.538</td>\n",
       "      <td>6.575</td>\n",
       "      <td>65.2</td>\n",
       "      <td>4.0900</td>\n",
       "      <td>1.0</td>\n",
       "      <td>296.0</td>\n",
       "      <td>15.3</td>\n",
       "      <td>396.90</td>\n",
       "      <td>4.98</td>\n",
       "      <td>24.0</td>\n",
       "    </tr>\n",
       "    <tr>\n",
       "      <th>1</th>\n",
       "      <td>1</td>\n",
       "      <td>0.02731</td>\n",
       "      <td>0.0</td>\n",
       "      <td>7.07</td>\n",
       "      <td>0.0</td>\n",
       "      <td>0.469</td>\n",
       "      <td>6.421</td>\n",
       "      <td>78.9</td>\n",
       "      <td>4.9671</td>\n",
       "      <td>2.0</td>\n",
       "      <td>242.0</td>\n",
       "      <td>17.8</td>\n",
       "      <td>396.90</td>\n",
       "      <td>9.14</td>\n",
       "      <td>21.6</td>\n",
       "    </tr>\n",
       "    <tr>\n",
       "      <th>2</th>\n",
       "      <td>2</td>\n",
       "      <td>0.02729</td>\n",
       "      <td>0.0</td>\n",
       "      <td>7.07</td>\n",
       "      <td>0.0</td>\n",
       "      <td>0.469</td>\n",
       "      <td>7.185</td>\n",
       "      <td>61.1</td>\n",
       "      <td>4.9671</td>\n",
       "      <td>2.0</td>\n",
       "      <td>242.0</td>\n",
       "      <td>17.8</td>\n",
       "      <td>392.83</td>\n",
       "      <td>4.03</td>\n",
       "      <td>34.7</td>\n",
       "    </tr>\n",
       "    <tr>\n",
       "      <th>3</th>\n",
       "      <td>3</td>\n",
       "      <td>0.03237</td>\n",
       "      <td>0.0</td>\n",
       "      <td>2.18</td>\n",
       "      <td>0.0</td>\n",
       "      <td>0.458</td>\n",
       "      <td>6.998</td>\n",
       "      <td>45.8</td>\n",
       "      <td>6.0622</td>\n",
       "      <td>3.0</td>\n",
       "      <td>222.0</td>\n",
       "      <td>18.7</td>\n",
       "      <td>394.63</td>\n",
       "      <td>2.94</td>\n",
       "      <td>33.4</td>\n",
       "    </tr>\n",
       "    <tr>\n",
       "      <th>4</th>\n",
       "      <td>4</td>\n",
       "      <td>0.06905</td>\n",
       "      <td>0.0</td>\n",
       "      <td>2.18</td>\n",
       "      <td>0.0</td>\n",
       "      <td>0.458</td>\n",
       "      <td>7.147</td>\n",
       "      <td>54.2</td>\n",
       "      <td>6.0622</td>\n",
       "      <td>3.0</td>\n",
       "      <td>222.0</td>\n",
       "      <td>18.7</td>\n",
       "      <td>396.90</td>\n",
       "      <td>5.33</td>\n",
       "      <td>36.2</td>\n",
       "    </tr>\n",
       "  </tbody>\n",
       "</table>\n",
       "</div>"
      ],
      "text/plain": [
       "   Unnamed: 0     CRIM    ZN  INDUS  ...  PTRATIO       B  LSTAT  Price per $1000\n",
       "0           0  0.00632  18.0   2.31  ...     15.3  396.90   4.98             24.0\n",
       "1           1  0.02731   0.0   7.07  ...     17.8  396.90   9.14             21.6\n",
       "2           2  0.02729   0.0   7.07  ...     17.8  392.83   4.03             34.7\n",
       "3           3  0.03237   0.0   2.18  ...     18.7  394.63   2.94             33.4\n",
       "4           4  0.06905   0.0   2.18  ...     18.7  396.90   5.33             36.2\n",
       "\n",
       "[5 rows x 15 columns]"
      ]
     },
     "execution_count": 18,
     "metadata": {
      "tags": []
     },
     "output_type": "execute_result"
    }
   ],
   "source": [
    "df.head()"
   ]
  },
  {
   "cell_type": "code",
   "execution_count": null,
   "metadata": {
    "colab": {
     "base_uri": "https://localhost:8080/"
    },
    "executionInfo": {
     "elapsed": 12,
     "status": "ok",
     "timestamp": 1628787782307,
     "user": {
      "displayName": "Btech Project",
      "photoUrl": "",
      "userId": "03384539956361178200"
     },
     "user_tz": -330
    },
    "id": "5SNFGzdZTluS",
    "outputId": "53caf7c7-76ad-4523-8d63-f9c777351367"
   },
   "outputs": [
    {
     "data": {
      "text/plain": [
       "Unnamed: 0         0\n",
       "CRIM               0\n",
       "ZN                 0\n",
       "INDUS              0\n",
       "CHAS               0\n",
       "NOX                0\n",
       "RM                 0\n",
       "AGE                0\n",
       "DIS                0\n",
       "RAD                0\n",
       "TAX                0\n",
       "PTRATIO            0\n",
       "B                  0\n",
       "LSTAT              0\n",
       "Price per $1000    0\n",
       "dtype: int64"
      ]
     },
     "execution_count": 19,
     "metadata": {
      "tags": []
     },
     "output_type": "execute_result"
    }
   ],
   "source": [
    "df.isnull().sum()"
   ]
  },
  {
   "cell_type": "code",
   "execution_count": null,
   "metadata": {
    "id": "d2avfzb8Trbo"
   },
   "outputs": [],
   "source": [
    "df.drop('AGE',axis=1,inplace=True)\n",
    "df.drop('INDUS',axis=1,inplace=True)"
   ]
  },
  {
   "cell_type": "code",
   "execution_count": null,
   "metadata": {
    "id": "9uqsnezHTxJC"
   },
   "outputs": [],
   "source": [
    "X=df.iloc[:,:-2].values\n",
    "y=df.iloc[:,-2].values"
   ]
  },
  {
   "cell_type": "markdown",
   "metadata": {
    "id": "cWvpTmysVdrX"
   },
   "source": [
    "# **Splitting Data into Training and Testing Data**"
   ]
  },
  {
   "cell_type": "code",
   "execution_count": null,
   "metadata": {
    "colab": {
     "base_uri": "https://localhost:8080/"
    },
    "executionInfo": {
     "elapsed": 10,
     "status": "ok",
     "timestamp": 1628787782308,
     "user": {
      "displayName": "Btech Project",
      "photoUrl": "",
      "userId": "03384539956361178200"
     },
     "user_tz": -330
    },
    "id": "mWEZtfXsT1CY",
    "outputId": "acfb5afc-ba4d-430d-c11e-6270519ca982"
   },
   "outputs": [
    {
     "name": "stdout",
     "output_type": "stream",
     "text": [
      "(404, 11)\n",
      "(102, 11)\n",
      "(404,)\n",
      "(102,)\n"
     ]
    }
   ],
   "source": [
    "X_train, X_test, Y_train, Y_test = train_test_split(X, y, test_size = 0.2, random_state=5)\n",
    "print(X_train.shape)\n",
    "print(X_test.shape)\n",
    "print(Y_train.shape)\n",
    "print(Y_test.shape)"
   ]
  },
  {
   "cell_type": "markdown",
   "metadata": {
    "id": "rrdwYf3HVjjQ"
   },
   "source": [
    "# **Building Linear Regression Model**"
   ]
  },
  {
   "cell_type": "code",
   "execution_count": null,
   "metadata": {
    "colab": {
     "base_uri": "https://localhost:8080/"
    },
    "executionInfo": {
     "elapsed": 10,
     "status": "ok",
     "timestamp": 1628787782309,
     "user": {
      "displayName": "Btech Project",
      "photoUrl": "",
      "userId": "03384539956361178200"
     },
     "user_tz": -330
    },
    "id": "2XvJRe3ZUAOP",
    "outputId": "ca5a4520-9460-49ed-ff42-4c674bdacb09"
   },
   "outputs": [
    {
     "data": {
      "text/plain": [
       "LinearRegression(copy_X=True, fit_intercept=True, n_jobs=None, normalize=False)"
      ]
     },
     "execution_count": 23,
     "metadata": {
      "tags": []
     },
     "output_type": "execute_result"
    }
   ],
   "source": [
    "regressor=LinearRegression()\n",
    "regressor.fit(X_train,Y_train)"
   ]
  },
  {
   "cell_type": "code",
   "execution_count": null,
   "metadata": {
    "colab": {
     "base_uri": "https://localhost:8080/"
    },
    "executionInfo": {
     "elapsed": 9,
     "status": "ok",
     "timestamp": 1628787782309,
     "user": {
      "displayName": "Btech Project",
      "photoUrl": "",
      "userId": "03384539956361178200"
     },
     "user_tz": -330
    },
    "id": "3Wzwul-kUJIL",
    "outputId": "bebdd81b-83d8-4453-e7a0-36ad99f16867"
   },
   "outputs": [
    {
     "name": "stdout",
     "output_type": "stream",
     "text": [
      "[[ 3.53  3.13]\n",
      " [ 7.02  4.7 ]\n",
      " [10.25  8.81]\n",
      " [22.4  34.77]\n",
      " [ 2.39  6.58]\n",
      " [24.94 26.64]\n",
      " [ 8.25  5.64]\n",
      " [ 7.91  8.05]\n",
      " [10.49 10.16]\n",
      " [12.61 14.36]\n",
      " [ 5.14  6.19]\n",
      " [11.56  9.74]\n",
      " [12.36  9.97]\n",
      " [ 5.74  6.93]\n",
      " [ 8.42  7.73]\n",
      " [ 9.94 12.67]\n",
      " [26.09 34.37]\n",
      " [22.31 13.28]\n",
      " [15.05 21.14]\n",
      " [25.84 10.11]\n",
      " [18.   29.68]\n",
      " [14.07 11.12]\n",
      " [ 2.67  4.14]\n",
      " [10.57 10.36]\n",
      " [ 3.77  7.85]\n",
      " [21.02 23.79]\n",
      " [ 9.61  6.87]\n",
      " [12.71 12.04]\n",
      " [10.01  5.68]\n",
      " [ 6.17  5.49]\n",
      " [14.79 25.41]\n",
      " [16.46 23.97]\n",
      " [18.92 16.35]\n",
      " [12.22 16.74]\n",
      " [ 7.56  8.67]\n",
      " [14.26 12.26]\n",
      " [ 7.97  9.54]\n",
      " [22.16 24.39]\n",
      " [ 3.92  5.91]\n",
      " [ 6.69  1.98]\n",
      " [17.06 15.17]\n",
      " [19.8  34.41]\n",
      " [ 9.41  7.6 ]\n",
      " [20.77 19.01]\n",
      " [ 6.96  7.39]\n",
      " [ 4.68  6.07]\n",
      " [31.36 36.98]\n",
      " [14.26 17.93]\n",
      " [19.1  14.1 ]\n",
      " [14.91 24.16]\n",
      " [13.05 14.09]\n",
      " [10.65 12.79]\n",
      " [10.14  8.94]\n",
      " [14.91 20.34]\n",
      " [21.82 15.79]\n",
      " [ 8.1   5.77]\n",
      " [ 3.51  3.57]\n",
      " [18.19 18.13]\n",
      " [ 6.41  6.27]\n",
      " [10.63 13.45]\n",
      " [12.44 14.33]\n",
      " [11.76 10.11]\n",
      " [16.89 17.19]\n",
      " [10.37  4.59]\n",
      " [17.21 11.48]\n",
      " [22.59 19.77]\n",
      " [11.84 12.8 ]\n",
      " [10.1   7.44]\n",
      " [10.9   9.88]\n",
      " [14.96 11.45]\n",
      " [13.31 18.68]\n",
      " [11.86  5.98]\n",
      " [12.51 16.2 ]\n",
      " [15.05 19.78]\n",
      " [19.81 12.13]\n",
      " [ 4.83  4.5 ]\n",
      " [15.25 14.43]\n",
      " [21.61 21.45]\n",
      " [ 8.35 11.25]\n",
      " [18.64 15.7 ]\n",
      " [12.53 12.87]\n",
      " [ 2.96  3.32]\n",
      " [10.09 21.46]\n",
      " [20.38 15.17]\n",
      " [10.61 10.24]\n",
      " [16.85 19.31]\n",
      " [14.35 15.1 ]\n",
      " [22.36 25.68]\n",
      " [10.01 15.84]\n",
      " [ 8.85  7.79]\n",
      " [ 3.87  4.45]\n",
      " [14.11 13.83]\n",
      " [15.74 13.11]\n",
      " [17.23 16.59]\n",
      " [ 8.74  7.34]\n",
      " [ 8.34  5.28]\n",
      " [17.72 17.31]\n",
      " [ 5.17  5.89]\n",
      " [11.14 16.03]\n",
      " [25.14 16.14]\n",
      " [12.6  10.74]\n",
      " [ 8.26  9.52]]\n"
     ]
    }
   ],
   "source": [
    "Y_pred=regressor.predict(X_test)\n",
    "np.set_printoptions(precision=2)\n",
    "print(np.concatenate((Y_pred.reshape(len(Y_pred),1),Y_test.reshape(len(Y_test),1)),1))"
   ]
  },
  {
   "cell_type": "code",
   "execution_count": null,
   "metadata": {
    "id": "imwjEd5eUMQL"
   },
   "outputs": [],
   "source": []
  }
 ],
 "metadata": {
  "colab": {
   "authorship_tag": "ABX9TyOZwviQNnqZAwZCQLCgyNuf",
   "collapsed_sections": [],
   "name": "Day1.ipynb",
   "provenance": [],
   "toc_visible": true
  },
  "kernelspec": {
   "display_name": "Python 3 (ipykernel)",
   "language": "python",
   "name": "python3"
  },
  "language_info": {
   "codemirror_mode": {
    "name": "ipython",
    "version": 3
   },
   "file_extension": ".py",
   "mimetype": "text/x-python",
   "name": "python",
   "nbconvert_exporter": "python",
   "pygments_lexer": "ipython3",
   "version": "3.9.12"
  }
 },
 "nbformat": 4,
 "nbformat_minor": 1
}
